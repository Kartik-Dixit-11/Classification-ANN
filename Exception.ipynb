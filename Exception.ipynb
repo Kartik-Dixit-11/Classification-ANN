{
 "cells": [
  {
   "cell_type": "markdown",
   "id": "3f4cb56c-ae30-4164-ad60-9b1b9960a3a1",
   "metadata": {},
   "source": [
    "#### Q1. What is an Exception in python? Write the difference between Exceptions and Syntax errors"
   ]
  },
  {
   "cell_type": "markdown",
   "id": "bc87222b-8e65-43fd-86fe-b632d5cdffef",
   "metadata": {},
   "source": [
    "Ans: Exception in Python is undesireble state occurs during Run time or compile time which violates the rules of execution.\n",
    "     So it is important to handle thenm with the use of necessary clauses. one of the biggest difference between Exception and Error is \n",
    "     we can use try-except in blocks in python to handle exceptions but errors such as syntax errors can not be handled with exception handling\n",
    "     Techniques.Usually Exception occur during compile time are the Errors"
   ]
  },
  {
   "cell_type": "markdown",
   "id": "1b439b6d-7d81-43e5-b7ae-9991fbf0c0ad",
   "metadata": {},
   "source": []
  },
  {
   "cell_type": "markdown",
   "id": "c666f8f8-3f7c-4f13-8e78-176dcc93cf37",
   "metadata": {},
   "source": [
    "#### Q2. What happens when an Exception is not handled? Explain with an example"
   ]
  },
  {
   "cell_type": "markdown",
   "id": "33127ba7-b1e7-4d09-af24-b1fa5c1b480d",
   "metadata": {},
   "source": [
    "Ans: As we disscussed, Exceptions are the undesirable states and if not handled they exits the execution processes.\n",
    "     Thus when Exceptions are neglected they behaves like Errors"
   ]
  },
  {
   "cell_type": "code",
   "execution_count": 7,
   "id": "08d2df4e-0364-4e4e-8a28-37cdaba88afc",
   "metadata": {},
   "outputs": [
    {
     "ename": "ZeroDivisionError",
     "evalue": "division by zero",
     "output_type": "error",
     "traceback": [
      "\u001b[1;31m---------------------------------------------------------------------------\u001b[0m",
      "\u001b[1;31mZeroDivisionError\u001b[0m                         Traceback (most recent call last)",
      "Cell \u001b[1;32mIn[7], line 6\u001b[0m\n\u001b[0;32m      1\u001b[0m \u001b[38;5;66;03m#Example\u001b[39;00m\n\u001b[0;32m      2\u001b[0m \n\u001b[0;32m      3\u001b[0m \u001b[38;5;66;03m#Common divide by zero Error\u001b[39;00m\n\u001b[0;32m      5\u001b[0m num\u001b[38;5;241m=\u001b[39m\u001b[38;5;241m0\u001b[39m\n\u001b[1;32m----> 6\u001b[0m \u001b[38;5;241;43m5\u001b[39;49m\u001b[38;5;241;43m/\u001b[39;49m\u001b[43mnum\u001b[49m\n",
      "\u001b[1;31mZeroDivisionError\u001b[0m: division by zero"
     ]
    }
   ],
   "source": [
    "#Example\n",
    "\n",
    "#Common divide by zero Error\n",
    "\n",
    "num=0\n",
    "5/num"
   ]
  },
  {
   "cell_type": "code",
   "execution_count": 8,
   "id": "6f4969c5-64bb-4c08-b901-183bd2298a90",
   "metadata": {},
   "outputs": [
    {
     "name": "stdout",
     "output_type": "stream",
     "text": [
      "Divided by Zero\n",
      "Executing Further Code\n"
     ]
    }
   ],
   "source": [
    "#when handled\n",
    "num=0\n",
    "try:\n",
    "    5/num\n",
    "except:\n",
    "    print(\"Divided by Zero\")\n",
    "\n",
    "print(\"Executing Further Code\")"
   ]
  },
  {
   "cell_type": "code",
   "execution_count": null,
   "id": "854fa76a-463c-4720-9ddd-61edf18e42aa",
   "metadata": {},
   "outputs": [],
   "source": []
  },
  {
   "cell_type": "markdown",
   "id": "2d58beea-4080-417a-8eaa-ef561ad87cc4",
   "metadata": {},
   "source": [
    "#### Q3. Which Python statements are used to catch and handle exceptions? Explain with an Example"
   ]
  },
  {
   "cell_type": "markdown",
   "id": "88ccc416-df7a-421c-a64d-55b66839ada1",
   "metadata": {},
   "source": [
    "Ans:Python uses various statments like try,except and finallly to manage the exception"
   ]
  },
  {
   "cell_type": "code",
   "execution_count": 15,
   "id": "f86dd64b-1401-4877-a896-d3a29eab3c8d",
   "metadata": {},
   "outputs": [
    {
     "name": "stdout",
     "output_type": "stream",
     "text": [
      "Invalid Assigment\n",
      "Further execution\n"
     ]
    }
   ],
   "source": [
    "#example\n",
    "data=[1,2]\n",
    "\n",
    "try:\n",
    "    data[2]=12\n",
    "except:\n",
    "    print(\"Invalid Assigment\")\n",
    "    \n",
    "print(\"Further execution\")"
   ]
  },
  {
   "cell_type": "markdown",
   "id": "03d4641d-2a4d-443f-9fb1-54911f203f0c",
   "metadata": {},
   "source": [
    "#### Q4. Explain with an example"
   ]
  },
  {
   "cell_type": "markdown",
   "id": "bbff3bee-61da-4ca4-9d43-309663e237e3",
   "metadata": {},
   "source": [
    "a)\n",
    "try and else : 'else' statment can be used in try-except block to execute some sort of code which can only be executed\n",
    "                after the successful executin of try block i.e without the occurance of exeception\n"
   ]
  },
  {
   "cell_type": "code",
   "execution_count": 34,
   "id": "44dc640a-2da7-4be8-a442-c3dac5a469fc",
   "metadata": {},
   "outputs": [
    {
     "name": "stdout",
     "output_type": "stream",
     "text": [
      "First block\n",
      "Error\n",
      "\n",
      "Second Block\n",
      "Successfull Execution of Code without any exception\n",
      "Executing Else block 2\n"
     ]
    }
   ],
   "source": [
    "#a\n",
    "#try and else : 'else' statment can be used in try-except block to execute some sort of code which can only be executed\n",
    "#                after the successful executin of try block i.e without the occurance of exeception\n",
    "\n",
    "print(\"First block\")\n",
    "try:\n",
    "    \"hello\"+10\n",
    "except:\n",
    "    print('Error')\n",
    "else:\n",
    "    print(\"Executing Else block 1\")\n",
    "\n",
    "print()\n",
    "print(\"Second Block\")\n",
    "\n",
    "\n",
    "\n",
    "try:\n",
    "     hello=10\n",
    "     print(\"Successfull Execution of Code without any exception\")\n",
    "except:\n",
    "     print('Error')\n",
    "else:\n",
    "     print(\"Executing Else block 2\")\n"
   ]
  },
  {
   "cell_type": "markdown",
   "id": "161601be-6478-4611-92e2-f358fdd0eab5",
   "metadata": {},
   "source": [
    "b) finally: It is block of code which will be executing after the exception handling statements. Whether Exception is handled or not \n",
    "            finally blocks executes every time which differentiates it's behaviour from else statment"
   ]
  },
  {
   "cell_type": "code",
   "execution_count": 51,
   "id": "259c2989-0ec5-4b2e-b2b8-6d64568e0690",
   "metadata": {},
   "outputs": [
    {
     "name": "stdout",
     "output_type": "stream",
     "text": [
      "Error: can't multiply sequence by non-int of type 'list'\n",
      "Further Execution\n",
      "\n",
      "Further Execution\n"
     ]
    }
   ],
   "source": [
    "#ex\n",
    "try:\n",
    "    'a'*[1,2,3]\n",
    "except Exception as e:\n",
    "    print(\"Error:\",e)\n",
    "finally:\n",
    "    print(\"Further Execution\")\n",
    "print()\n",
    "try:\n",
    "    a=[1,2,3]\n",
    "except Exception as e:\n",
    "    print(\"Error:\",e)\n",
    "finally:\n",
    "    print(\"Further Execution\")\n"
   ]
  },
  {
   "cell_type": "markdown",
   "id": "431543c5-e22c-4e10-997b-44ebbb93f9f7",
   "metadata": {},
   "source": [
    "c)raise: It is most commonly used expression for user defined exceptions. It can generate new type of exception according \n",
    "        the requirements of user"
   ]
  },
  {
   "cell_type": "code",
   "execution_count": null,
   "id": "b9995744-bf37-49b1-b9e1-b7b37aa38ce4",
   "metadata": {},
   "outputs": [],
   "source": [
    "#Ex\n",
    "age=-23\n",
    "\n",
    "try:\n",
    "    num=num.upper()\n",
    "except:\n",
    "    raise Exception(\"integer object has no attribute called upper()\")"
   ]
  },
  {
   "cell_type": "markdown",
   "id": "66c8be9a-b80b-4287-a15a-a0eb7f16829a",
   "metadata": {},
   "source": [
    "Q5. What are Custom Exceptions in python? Why do we need Custom Exceptions? Explain with an example"
   ]
  },
  {
   "cell_type": "markdown",
   "id": "edcae17a-9bd3-41e1-a9ff-9e0f86d8cd28",
   "metadata": {},
   "source": [
    "Ans:Custome Excpetion are user defined exceptions which can be added inorder to satisfy certain constrains of the programme according to\n",
    "    the requirements. i.e if we are dealing with age of person , value must be positive. so to handle such convential \n",
    "    and problem based errors we can create custom exception"
   ]
  },
  {
   "cell_type": "code",
   "execution_count": 70,
   "id": "4c8075d4-16ea-4920-baf4-b397b6a5ab63",
   "metadata": {},
   "outputs": [
    {
     "ename": "Exception",
     "evalue": "Name contains Intergers",
     "output_type": "error",
     "traceback": [
      "\u001b[1;31m---------------------------------------------------------------------------\u001b[0m",
      "\u001b[1;31mException\u001b[0m                                 Traceback (most recent call last)",
      "Cell \u001b[1;32mIn[70], line 5\u001b[0m\n\u001b[0;32m      2\u001b[0m name\u001b[38;5;241m=\u001b[39m\u001b[38;5;124m\"\u001b[39m\u001b[38;5;124m123\u001b[39m\u001b[38;5;124m\"\u001b[39m\n\u001b[0;32m      4\u001b[0m \u001b[38;5;28;01mif\u001b[39;00m name\u001b[38;5;241m.\u001b[39misnumeric():\n\u001b[1;32m----> 5\u001b[0m     \u001b[38;5;28;01mraise\u001b[39;00m \u001b[38;5;167;01mException\u001b[39;00m(\u001b[38;5;124m'\u001b[39m\u001b[38;5;124mName contains Intergers\u001b[39m\u001b[38;5;124m'\u001b[39m)\n",
      "\u001b[1;31mException\u001b[0m: Name contains Intergers"
     ]
    }
   ],
   "source": [
    "#Ex\n",
    "name=\"123\"\n",
    "\n",
    "if name.isnumeric():\n",
    "    raise Exception('Name contains Intergers')\n"
   ]
  },
  {
   "cell_type": "markdown",
   "id": "a26eac9c-61a4-4fcb-9f65-da025290a468",
   "metadata": {},
   "source": [
    "Q6. Create a custom exception class. Use this class to handle an exeception"
   ]
  },
  {
   "cell_type": "code",
   "execution_count": 116,
   "id": "e45cecfb-0544-471a-a3c4-d9bcd62db977",
   "metadata": {},
   "outputs": [
    {
     "name": "stdout",
     "output_type": "stream",
     "text": [
      "Error: Name is Numeric\n",
      "Error Age is Negative\n"
     ]
    }
   ],
   "source": [
    "class ageValidation(Exception):\n",
    "    def __init__(self,msg):\n",
    "        self.msg=msg\n",
    "\n",
    "class  nameValidation(Exception):\n",
    "    def __init__(self,msg):\n",
    "        self.msg=msg\n",
    "\n",
    "def nValid(name):\n",
    "    if(name.isnumeric()):\n",
    "        raise nameValidation(\"Name is Numeric\")\n",
    "\n",
    "def aValid(age):    \n",
    "    if(age<0):\n",
    "        raise ageValidation(\"Age is Negative\")\n",
    "try:\n",
    "    try:\n",
    "        name=\"123\"\n",
    "        nValid(name)\n",
    "    \n",
    "    except (nameValidation) as n:\n",
    "            print(\"Error:\",n)\n",
    "            age=-2\n",
    "            aValid(age)\n",
    "\n",
    "except (ageValidation) as a:\n",
    "    print(\"Error\",a)"
   ]
  },
  {
   "cell_type": "code",
   "execution_count": null,
   "id": "5a906345-ee01-46fe-9ee6-b6ac1a003352",
   "metadata": {},
   "outputs": [],
   "source": []
  }
 ],
 "metadata": {
  "kernelspec": {
   "display_name": "Python 3 (ipykernel)",
   "language": "python",
   "name": "python3"
  },
  "language_info": {
   "codemirror_mode": {
    "name": "ipython",
    "version": 3
   },
   "file_extension": ".py",
   "mimetype": "text/x-python",
   "name": "python",
   "nbconvert_exporter": "python",
   "pygments_lexer": "ipython3",
   "version": "3.11.4"
  }
 },
 "nbformat": 4,
 "nbformat_minor": 5
}
